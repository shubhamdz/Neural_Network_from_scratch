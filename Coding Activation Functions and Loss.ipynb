{
 "cells": [
  {
   "cell_type": "markdown",
   "id": "13eb9754",
   "metadata": {},
   "source": [
    "#### Coding RELU "
   ]
  },
  {
   "cell_type": "code",
   "execution_count": 23,
   "id": "36633986",
   "metadata": {},
   "outputs": [
    {
     "name": "stdout",
     "output_type": "stream",
     "text": [
      "[0.  2.  0.  3.3 0.  1.1 2.2 0. ]\n"
     ]
    }
   ],
   "source": [
    "import numpy as np \n",
    "\n",
    "inputs = [0, 2, -1, 3.3, -2.7, 1.1, 2.2, -100]\n",
    "output = np.maximum(0,inputs)\n",
    "print(output)"
   ]
  },
  {
   "cell_type": "code",
   "execution_count": 24,
   "id": "6463fa45",
   "metadata": {},
   "outputs": [],
   "source": [
    "class ActivationReLU:\n",
    "    def forward(self,inputs):\n",
    "        self.output = np.maximum(0,inputs)"
   ]
  },
  {
   "cell_type": "code",
   "execution_count": 25,
   "id": "190a9d9b",
   "metadata": {},
   "outputs": [
    {
     "data": {
      "text/plain": [
       "array([0. , 2. , 0. , 3.3, 0. , 1.1, 2.2, 0. ])"
      ]
     },
     "execution_count": 25,
     "metadata": {},
     "output_type": "execute_result"
    }
   ],
   "source": [
    "inputs = np.array([0, 2, -1, 3.3, -2.7, 1.1, 2.2, -100])\n",
    "\n",
    "obj = ActivationReLU()\n",
    "obj.forward(inputs)\n",
    "obj.output"
   ]
  },
  {
   "cell_type": "markdown",
   "id": "45d27425",
   "metadata": {},
   "source": [
    "#### Coding SoftMax "
   ]
  },
  {
   "cell_type": "code",
   "execution_count": 26,
   "id": "e6945cf5",
   "metadata": {},
   "outputs": [
    {
     "name": "stdout",
     "output_type": "stream",
     "text": [
      "[[0.06414769 0.17437149 0.47399085 0.28748998]\n",
      " [0.04517666 0.90739747 0.00224921 0.04517666]\n",
      " [0.00522984 0.34875873 0.63547983 0.0105316 ]]\n"
     ]
    },
    {
     "data": {
      "text/plain": [
       "array([[1.],\n",
       "       [1.],\n",
       "       [1.]])"
      ]
     },
     "execution_count": 26,
     "metadata": {},
     "output_type": "execute_result"
    }
   ],
   "source": [
    "inputs =[[1, 2, 3, 2.5],\n",
    "         [2., 5., -1., 2],\n",
    "         [-1.5, 2.7, 3.3, -0.8]]\n",
    "\n",
    "# Get unnormalized probabilities\n",
    "exp_values = np.exp(inputs - np.max(inputs,axis = 1,keepdims = True))\n",
    "\n",
    "# Normalize them for each sample\n",
    "probabilities = exp_values/np.sum(exp_values,axis = 1,keepdims = True)\n",
    "print(probabilities)\n",
    "np.sum(probabilities, axis = 1,keepdims = True)"
   ]
  },
  {
   "cell_type": "code",
   "execution_count": 27,
   "id": "27012694",
   "metadata": {},
   "outputs": [],
   "source": [
    "class ActivationSoftMax:\n",
    "    #forward pass\n",
    "    def forward(self,inputs):\n",
    "        exp_values = np.exp(inputs - np.max(inputs,axis = 1,keepdims = True))\n",
    "        \n",
    "        probabilities = exp_values/np.sum(exp_values,axis = 1 ,keepdims = True)\n",
    "        self.output = probabilities"
   ]
  },
  {
   "cell_type": "code",
   "execution_count": 28,
   "id": "d08eb855",
   "metadata": {},
   "outputs": [],
   "source": [
    "class Layer_Dense:\n",
    "    #Layer initialization \n",
    "    def __init__(self,n_inputs,n_neurons):\n",
    "        self.weights = 0.01*np.random.rand(n_inputs,n_neurons) # initialise random value of gussain distribution of mean \"0\" and var \"1\"\n",
    "        self.biases = np.zeros((1,n_neurons))\n",
    "    #forward pass \n",
    "    def forwardpass(self,inputs):\n",
    "        self.output = np.dot(inputs,self.weights) + self.biases"
   ]
  },
  {
   "cell_type": "code",
   "execution_count": 29,
   "id": "a0d0ef9f",
   "metadata": {},
   "outputs": [
    {
     "name": "stdout",
     "output_type": "stream",
     "text": [
      "[[0.33333334 0.33333334 0.33333334]\n",
      " [0.33333325 0.33333355 0.33333322]\n",
      " [0.33333313 0.33333373 0.3333331 ]\n",
      " [0.3333331  0.3333337  0.33333322]\n",
      " [0.333333   0.33333385 0.3333331 ]]\n"
     ]
    }
   ],
   "source": [
    "from nnfs.datasets import spiral_data\n",
    "import nnfs\n",
    "nnfs.init()\n",
    "X, y = spiral_data(samples=100, classes=3)\n",
    "dense1 = Layer_Dense(2,3) # this will have 2 input into 3 output feature(1st Dense layer)\n",
    "\n",
    "activation1 = ActivationReLU() # here we are using ReLU activation function for the first layer\n",
    "\n",
    "dense2 = Layer_Dense(3,3) # created 2nd Dense Layer with 3 input features(output of the previous) and 3 output\n",
    "\n",
    "activation2 = ActivationSoftMax() # created softmax activation used for 2nd layer \n",
    "\n",
    "dense1.forwardpass(X) # Make a forward pass of our training data through this layer\n",
    "\n",
    "activation1.forward(dense1.output) # now this output is input for next neurons\n",
    "\n",
    "# Make a forward pass through second Dense layer\n",
    "# it takes outputs of activation function of first layer as inputs\n",
    "dense2.forwardpass(activation1.output)\n",
    "\n",
    "# Make a forward pass through activation function\n",
    "# it takes the output of second dense layer here\n",
    "activation2.forward(dense2.output)\n",
    "\n",
    "print(activation2.output[:5])"
   ]
  },
  {
   "cell_type": "code",
   "execution_count": 30,
   "id": "e605cfae",
   "metadata": {},
   "outputs": [
    {
     "name": "stdout",
     "output_type": "stream",
     "text": [
      "(3,)\n"
     ]
    }
   ],
   "source": [
    "scores = [1.0, 2.0, 3.0]\n",
    "s_array = np.array(scores)\n",
    "type(s_array)\n",
    "print(s_array.shape)"
   ]
  },
  {
   "cell_type": "markdown",
   "id": "eb141cf0",
   "metadata": {},
   "source": [
    "#### Coding Cross Entropy Loss"
   ]
  },
  {
   "cell_type": "markdown",
   "id": "15882911",
   "metadata": {},
   "source": [
    "#####  When the Class Target is number "
   ]
  },
  {
   "cell_type": "code",
   "execution_count": 31,
   "id": "825a0f4f",
   "metadata": {},
   "outputs": [
    {
     "name": "stdout",
     "output_type": "stream",
     "text": [
      "0.7\n",
      "0.5\n",
      "0.9\n"
     ]
    }
   ],
   "source": [
    "softmax_outputs = np.array([[0.7, 0.1, 0.2],\n",
    "                   [0.1, 0.5, 0.4],\n",
    "                   [0.02, 0.9, 0.08]])\n",
    "    \n",
    "class_targets = np.array([0, 1, 1])\n",
    "\n",
    "\n",
    "for targ_idx,distribution in zip(class_targets,softmax_outputs):\n",
    "    print(distribution[targ_idx])"
   ]
  },
  {
   "cell_type": "code",
   "execution_count": 32,
   "id": "fad64c0e",
   "metadata": {},
   "outputs": [
    {
     "name": "stdout",
     "output_type": "stream",
     "text": [
      "[0.7 0.5 0.9]\n",
      "[0.7 0.5 0.9]\n"
     ]
    }
   ],
   "source": [
    "# OR\n",
    "softmax_outputs = np.array([[0.7, 0.1, 0.2],\n",
    "                   [0.1, 0.5, 0.4],\n",
    "                   [0.02, 0.9, 0.08]])\n",
    "    \n",
    "class_targets = np.array([0, 1, 1])\n",
    "\n",
    "print(softmax_outputs[[0,1,2],class_targets])\n",
    "# most optimised\n",
    "print(softmax_outputs[range(len(softmax_outputs)),class_targets])"
   ]
  },
  {
   "cell_type": "code",
   "execution_count": 33,
   "id": "8699588a",
   "metadata": {},
   "outputs": [
    {
     "name": "stdout",
     "output_type": "stream",
     "text": [
      "[0.35667494 0.69314718 0.10536052]\n",
      "0.38506088005216804\n"
     ]
    }
   ],
   "source": [
    "print(-np.log(softmax_outputs[range(len(softmax_outputs)),class_targets])) # this will give me the loss\n",
    "\n",
    "neg_loss = -np.log(softmax_outputs[range(len(softmax_outputs)),class_targets])\n",
    "\n",
    "avg_loss  = np.mean(neg_loss)\n",
    "print(avg_loss)"
   ]
  },
  {
   "cell_type": "markdown",
   "id": "34543e53",
   "metadata": {},
   "source": [
    "##### When the class target is one hot encoded "
   ]
  },
  {
   "cell_type": "code",
   "execution_count": 34,
   "id": "b8c0d251",
   "metadata": {},
   "outputs": [
    {
     "data": {
      "text/plain": [
       "array([[0.7, 0. , 0. ],\n",
       "       [0. , 0.5, 0. ],\n",
       "       [0. , 0.9, 0. ]])"
      ]
     },
     "execution_count": 34,
     "metadata": {},
     "output_type": "execute_result"
    }
   ],
   "source": [
    "y_true_check = np.array([\n",
    "    [1, 0, 0],\n",
    "    [0, 1, 0],\n",
    "    [0, 1, 0]])\n",
    "\n",
    "y_pred_clipped_check = np.array([[0.7, 0.1, 0.2],\n",
    "                   [0.1, 0.5, 0.4],\n",
    "                   [0.02, 0.9, 0.08]])\n",
    "\n",
    "y_true_check*y_pred_clipped_check # here we are doing element wise multiplication "
   ]
  },
  {
   "cell_type": "code",
   "execution_count": 35,
   "id": "e1ea5564",
   "metadata": {},
   "outputs": [
    {
     "name": "stdout",
     "output_type": "stream",
     "text": [
      "[0.35667494 0.69314718 0.10536052]\n",
      "0.38506088005216804\n"
     ]
    }
   ],
   "source": [
    "A = y_true_check*y_pred_clipped_check\n",
    "B = np.sum(A,axis = 1)\n",
    "C = -np.log(B)\n",
    "print(C)\n",
    "print(np.mean(C)) # this is the avg loss"
   ]
  },
  {
   "cell_type": "markdown",
   "id": "37cbd851",
   "metadata": {},
   "source": [
    "### Coding Categorical Cross Entropy Class "
   ]
  },
  {
   "cell_type": "code",
   "execution_count": 36,
   "id": "8d47bc39",
   "metadata": {},
   "outputs": [],
   "source": [
    "#common loss class \n",
    "class Loss:\n",
    "    #calculate the data and regularization losses \n",
    "    #given model output and growth truth values\n",
    "    def calculate(self,output,y):\n",
    "        #calculate the sample losses\n",
    "        sample_losses = self.forward(output,y)\n",
    "        #calculate the mean loss\n",
    "        data_loss = np.mean(sample_losses)\n",
    "        \n",
    "        return data_loss"
   ]
  },
  {
   "cell_type": "code",
   "execution_count": 37,
   "id": "63714a56",
   "metadata": {},
   "outputs": [],
   "source": [
    "class Loss_CategoricalCrossentropy(Loss):\n",
    "    #forward pass\n",
    "    def forward(self,y_pred,y_true):\n",
    "        samples = len(y_pred)\n",
    "        #clip data to prevent divison by 0\n",
    "        #clip both sides to not drag mean towards any value\n",
    "        y_pred_clipped = np.clip(y_pred,1e-7,1-1e-7)\n",
    "        \n",
    "        if len(y_true.shape) == 1: # only if categorical label(class targets are just numbers)\n",
    "            correct_confidence = y_pred_clipped[range(samples),y_true]\n",
    "        elif len(y_true.shape) == 2:\n",
    "            correct_confidence = np.sum(y_pred_clipped*y_true,axis=1)\n",
    "            \n",
    "        negative_log_likelihoods = -np.log(correct_confidence)\n",
    "        return negative_log_likelihoods"
   ]
  },
  {
   "cell_type": "code",
   "execution_count": 38,
   "id": "d78076f7",
   "metadata": {},
   "outputs": [
    {
     "name": "stdout",
     "output_type": "stream",
     "text": [
      "0.38506088005216804\n"
     ]
    }
   ],
   "source": [
    "softmax_outputs = np.array([[0.7, 0.1, 0.2],\n",
    "                   [0.1, 0.5, 0.4],\n",
    "                   [0.02, 0.9, 0.08]])\n",
    "    \n",
    "class_targets = np.array([\n",
    "    [1, 0, 0],\n",
    "    [0, 1, 0],\n",
    "    [0, 1, 0]])\n",
    "\n",
    "loss_function = Loss_CategoricalCrossentropy()\n",
    "loss = loss_function.calculate(softmax_outputs,class_targets)\n",
    "print(loss)"
   ]
  },
  {
   "cell_type": "markdown",
   "id": "91e95da6",
   "metadata": {},
   "source": [
    "#### Full code upto this point "
   ]
  },
  {
   "cell_type": "code",
   "execution_count": 39,
   "id": "deda86ab",
   "metadata": {
    "scrolled": true
   },
   "outputs": [
    {
     "name": "stdout",
     "output_type": "stream",
     "text": [
      "[[0.33333334 0.33333334 0.33333334]\n",
      " [0.3333333  0.33333328 0.3333334 ]\n",
      " [0.33333325 0.3333332  0.33333355]\n",
      " [0.3333333  0.33333322 0.3333335 ]\n",
      " [0.33333322 0.33333308 0.33333367]]\n",
      "loss : 1.098613\n",
      "acc : 0.2866666666666667\n"
     ]
    }
   ],
   "source": [
    "#create dataset\n",
    "X,y = spiral_data(samples = 100,classes = 3)\n",
    "\n",
    "dense1 = Layer_Dense(2,3)\n",
    "\n",
    "activation1 = ActivationReLU()\n",
    "\n",
    "dense2 = Layer_Dense(3,3)\n",
    "\n",
    "activation2 = ActivationSoftMax()\n",
    "\n",
    "loss_function = Loss_CategoricalCrossentropy()\n",
    "\n",
    "dense1.forwardpass(X)\n",
    "activation1.forward(dense1.output)\n",
    "\n",
    "dense2.forwardpass(activation1.output)\n",
    "activation2.forward(dense2.output)\n",
    "\n",
    "print(activation2.output[:5])\n",
    "\n",
    "loss = loss_function.calculate(activation2.output,y)\n",
    "print('loss :', loss)\n",
    "\n",
    "predictions = np.argmax(activation2.output,axis = 1)\n",
    "if len(y.shape)==2:\n",
    "    y = np.argmax(y,axis=1)\n",
    "\n",
    "accuracy = np.mean(predictions==y)\n",
    "print('acc :',accuracy)"
   ]
  },
  {
   "cell_type": "markdown",
   "id": "bac2a69e",
   "metadata": {},
   "source": [
    "#### Introducing Accuracy "
   ]
  },
  {
   "cell_type": "code",
   "execution_count": 40,
   "id": "409b10a5",
   "metadata": {},
   "outputs": [
    {
     "name": "stdout",
     "output_type": "stream",
     "text": [
      "acc : 1.0\n"
     ]
    }
   ],
   "source": [
    "softmax_outputs = np.array([[0.7, 0.1, 0.2],\n",
    "                   [0.1, 0.5, 0.4],\n",
    "                   [0.02, 0.9, 0.08]])\n",
    "    \n",
    "class_targets = np.array([0, 1, 1]) # this is ground truth\n",
    "\n",
    "# Now check the predictions(we can do this when class target is number) \n",
    "predictions = np.argmax(softmax_outputs,axis=1)\n",
    "\n",
    "#when the class target is one hot encoded \n",
    "if len(class_targets.shape)==2:\n",
    "    predictions = np.argmax(softmax_outputs,axis = 1)\n",
    "    \n",
    "accuracy = np.mean(predictions == class_targets)\n",
    "print('acc :',accuracy)"
   ]
  },
  {
   "cell_type": "markdown",
   "id": "03954792",
   "metadata": {},
   "source": [
    "### The Need for Optimization"
   ]
  },
  {
   "cell_type": "code",
   "execution_count": 41,
   "id": "54b7fa6b",
   "metadata": {},
   "outputs": [
    {
     "data": {
      "image/png": "[encoded data removed]",
      "text/plain": [
       "<Figure size 640x480 with 1 Axes>"
      ]
     },
     "metadata": {},
     "output_type": "display_data"
    }
   ],
   "source": [
    "#SIMPLER DATASET\n",
    "import matplotlib.pyplot as plt\n",
    "import nnfs\n",
    "from nnfs.datasets import vertical_data\n",
    "nnfs.init()\n",
    "X, y = vertical_data(samples=100, classes=3)\n",
    "plt.scatter(X[:, 0], X[:, 1], c=y, s=40, cmap='brg')\n",
    "plt.show()"
   ]
  },
  {
   "cell_type": "markdown",
   "id": "30fb4ef5",
   "metadata": {},
   "source": [
    "#### Randomly select weights and biases \n",
    "pick weights and biases randomly then calculate loss then\n",
    "iterate and choose weights and bias which gives lowest loss\n",
    "(this does not work)"
   ]
  },
  {
   "cell_type": "code",
   "execution_count": 44,
   "id": "7109f079",
   "metadata": {},
   "outputs": [
    {
     "name": "stdout",
     "output_type": "stream",
     "text": [
      "New set of weights found, iteration: 0 loss: 1.0986761 acc: 0.3333333333333333\n",
      "New set of weights found, iteration: 7 loss: 1.0985732 acc: 0.3333333333333333\n",
      "New set of weights found, iteration: 18 loss: 1.0983825 acc: 0.3333333333333333\n",
      "New set of weights found, iteration: 21 loss: 1.0978681 acc: 0.3333333333333333\n",
      "New set of weights found, iteration: 133 loss: 1.0978147 acc: 0.3333333333333333\n",
      "New set of weights found, iteration: 159 loss: 1.0976804 acc: 0.3333333333333333\n",
      "New set of weights found, iteration: 429 loss: 1.0975919 acc: 0.3333333333333333\n",
      "New set of weights found, iteration: 509 loss: 1.0972099 acc: 0.3333333333333333\n",
      "New set of weights found, iteration: 2251 loss: 1.0967957 acc: 0.3333333333333333\n",
      "New set of weights found, iteration: 2984 loss: 1.096694 acc: 0.3333333333333333\n",
      "New set of weights found, iteration: 6682 loss: 1.0966797 acc: 0.3333333333333333\n",
      "New set of weights found, iteration: 7184 loss: 1.0965178 acc: 0.3333333333333333\n",
      "New set of weights found, iteration: 9567 loss: 1.0962467 acc: 0.66\n",
      "New set of weights found, iteration: 30093 loss: 1.0962299 acc: 0.3333333333333333\n",
      "New set of weights found, iteration: 34395 loss: 1.096173 acc: 0.3333333333333333\n",
      "New set of weights found, iteration: 36346 loss: 1.0957904 acc: 0.3333333333333333\n",
      "New set of weights found, iteration: 93751 loss: 1.0955194 acc: 0.3333333333333333\n",
      "New set of weights found, iteration: 96466 loss: 1.0955011 acc: 0.3333333333333333\n"
     ]
    }
   ],
   "source": [
    "X,y = vertical_data(samples = 100,classes = 3)\n",
    "\n",
    "dense1 = Layer_Dense(2,3)\n",
    "activation1 = ActivationReLU()\n",
    "dense2 = Layer_Dense(3,3)\n",
    "activation2 = ActivationSoftMax()\n",
    "\n",
    "loss_function = Loss_CategoricalCrossentropy()\n",
    "\n",
    "\n",
    "lowest_loss = 9999999 #take a larger loss to minimise \n",
    "best_dense1_weights = dense1.weights.copy()\n",
    "best_dense1_biases = dense1.biases.copy()\n",
    "best_dense2_weights = dense2.weights.copy()\n",
    "best_dense2_biases = dense2.biases.copy()\n",
    "\n",
    "for iteration in range(100000):\n",
    "    \n",
    "    dense1.weights = 0.05*np.random.randn(2,3)\n",
    "    dense1.biases = 0.05*np.random.randn(1,3)\n",
    "    dense2.weights = 0.05*np.random.randn(3,3)\n",
    "    dense2.biases = 0.05*np.random.randn(1,3)\n",
    "    \n",
    "    #perform forward pass through activaton function \n",
    "    dense1.forwardpass(X)\n",
    "    activation1.forward(dense1.output)\n",
    "    dense2.forwardpass(activation1.output)\n",
    "    activation2.forward(dense2.output)\n",
    "    \n",
    "    loss = loss_function.calculate(activation2.output,y)\n",
    "    \n",
    "    predictions = np.argmax(activation2.output,axis = 1)\n",
    "    accuracy = np.mean(predictions == y)\n",
    "    \n",
    "    if loss<lowest_loss:\n",
    "        print('New set of weights found, iteration:', iteration,'loss:', loss, 'acc:', accuracy)\n",
    "        best_dense1_weights = dense1.weights.copy()\n",
    "        best_dense1_biases = dense1.biases.copy()\n",
    "        best_dense2_weights = dense2.weights.copy()\n",
    "        best_dense2_biases = dense2.biases.copy()\n",
    "        lowest_loss = loss"
   ]
  },
  {
   "cell_type": "markdown",
   "id": "8872a158",
   "metadata": {},
   "source": [
    "#### Randomly adjust weights and biases\n",
    " if loss decreases for some W,b: then choose the next value weights, biases closer to the W,b values \n",
    " and if loss increases, don't update weights,biases values\n",
    " (this works better but fails for complex data)"
   ]
  },
  {
   "cell_type": "code",
   "execution_count": 48,
   "id": "18931b53",
   "metadata": {},
   "outputs": [
    {
     "name": "stdout",
     "output_type": "stream",
     "text": [
      "New set of weights found, iteration: 0 loss: 1.1009043 acc: 0.3333333333333333\n",
      "New set of weights found, iteration: 5 loss: 1.1005286 acc: 0.3333333333333333\n",
      "New set of weights found, iteration: 11 loss: 1.0986472 acc: 0.3333333333333333\n",
      "New set of weights found, iteration: 12 loss: 1.09665 acc: 0.3333333333333333\n",
      "New set of weights found, iteration: 16 loss: 1.0936426 acc: 0.3333333333333333\n",
      "New set of weights found, iteration: 20 loss: 1.092058 acc: 0.37\n",
      "New set of weights found, iteration: 22 loss: 1.0920577 acc: 0.3333333333333333\n",
      "New set of weights found, iteration: 27 loss: 1.0880307 acc: 0.5933333333333334\n",
      "New set of weights found, iteration: 28 loss: 1.0822498 acc: 0.5933333333333334\n",
      "New set of weights found, iteration: 29 loss: 1.0795944 acc: 0.62\n",
      "New set of weights found, iteration: 30 loss: 1.0771602 acc: 0.3333333333333333\n",
      "New set of weights found, iteration: 39 loss: 1.0760651 acc: 0.3433333333333333\n",
      "New set of weights found, iteration: 41 loss: 1.0758691 acc: 0.6666666666666666\n",
      "New set of weights found, iteration: 49 loss: 1.0754249 acc: 0.5433333333333333\n",
      "New set of weights found, iteration: 52 loss: 1.068888 acc: 0.5466666666666666\n",
      "New set of weights found, iteration: 54 loss: 1.0625821 acc: 0.6233333333333333\n",
      "New set of weights found, iteration: 55 loss: 1.0624093 acc: 0.6333333333333333\n",
      "New set of weights found, iteration: 56 loss: 1.0432587 acc: 0.74\n",
      "New set of weights found, iteration: 58 loss: 1.0413781 acc: 0.64\n",
      "New set of weights found, iteration: 66 loss: 1.0355833 acc: 0.8\n",
      "New set of weights found, iteration: 68 loss: 1.0330713 acc: 0.67\n",
      "New set of weights found, iteration: 75 loss: 1.0298389 acc: 0.6333333333333333\n",
      "New set of weights found, iteration: 77 loss: 1.0277857 acc: 0.62\n",
      "New set of weights found, iteration: 82 loss: 1.0223372 acc: 0.48\n",
      "New set of weights found, iteration: 88 loss: 1.0183413 acc: 0.6566666666666666\n",
      "New set of weights found, iteration: 90 loss: 1.0081844 acc: 0.6233333333333333\n",
      "New set of weights found, iteration: 94 loss: 1.0016816 acc: 0.63\n",
      "New set of weights found, iteration: 96 loss: 0.9999223 acc: 0.63\n",
      "New set of weights found, iteration: 97 loss: 0.98816425 acc: 0.6633333333333333\n",
      "New set of weights found, iteration: 99 loss: 0.98753273 acc: 0.6633333333333333\n",
      "New set of weights found, iteration: 107 loss: 0.9773561 acc: 0.6633333333333333\n",
      "New set of weights found, iteration: 111 loss: 0.9739677 acc: 0.5033333333333333\n",
      "New set of weights found, iteration: 112 loss: 0.968945 acc: 0.5133333333333333\n",
      "New set of weights found, iteration: 113 loss: 0.96347475 acc: 0.5633333333333334\n",
      "New set of weights found, iteration: 116 loss: 0.945321 acc: 0.61\n",
      "New set of weights found, iteration: 122 loss: 0.9383329 acc: 0.6633333333333333\n",
      "New set of weights found, iteration: 126 loss: 0.9373743 acc: 0.6666666666666666\n",
      "New set of weights found, iteration: 127 loss: 0.9293298 acc: 0.6733333333333333\n",
      "New set of weights found, iteration: 129 loss: 0.9262625 acc: 0.7166666666666667\n",
      "New set of weights found, iteration: 130 loss: 0.92551064 acc: 0.65\n",
      "New set of weights found, iteration: 131 loss: 0.9227616 acc: 0.8766666666666667\n",
      "New set of weights found, iteration: 132 loss: 0.922739 acc: 0.5966666666666667\n",
      "New set of weights found, iteration: 134 loss: 0.9205321 acc: 0.5333333333333333\n",
      "New set of weights found, iteration: 140 loss: 0.919506 acc: 0.6566666666666666\n",
      "New set of weights found, iteration: 146 loss: 0.91186297 acc: 0.77\n",
      "New set of weights found, iteration: 148 loss: 0.90696126 acc: 0.81\n",
      "New set of weights found, iteration: 149 loss: 0.9013077 acc: 0.5833333333333334\n",
      "New set of weights found, iteration: 150 loss: 0.9010502 acc: 0.68\n",
      "New set of weights found, iteration: 153 loss: 0.894728 acc: 0.6866666666666666\n",
      "New set of weights found, iteration: 156 loss: 0.88695514 acc: 0.8966666666666666\n",
      "New set of weights found, iteration: 159 loss: 0.8807294 acc: 0.86\n",
      "New set of weights found, iteration: 160 loss: 0.87976176 acc: 0.9266666666666666\n",
      "New set of weights found, iteration: 161 loss: 0.8782076 acc: 0.85\n",
      "New set of weights found, iteration: 162 loss: 0.8756849 acc: 0.89\n",
      "New set of weights found, iteration: 168 loss: 0.8628713 acc: 0.8233333333333334\n",
      "New set of weights found, iteration: 172 loss: 0.86225605 acc: 0.8533333333333334\n",
      "New set of weights found, iteration: 174 loss: 0.85398114 acc: 0.7933333333333333\n",
      "New set of weights found, iteration: 175 loss: 0.84577423 acc: 0.7033333333333334\n",
      "New set of weights found, iteration: 185 loss: 0.8386022 acc: 0.6833333333333333\n",
      "New set of weights found, iteration: 187 loss: 0.8379286 acc: 0.5233333333333333\n",
      "New set of weights found, iteration: 189 loss: 0.825802 acc: 0.6533333333333333\n",
      "New set of weights found, iteration: 191 loss: 0.81522095 acc: 0.62\n",
      "New set of weights found, iteration: 198 loss: 0.79742736 acc: 0.6466666666666666\n",
      "New set of weights found, iteration: 199 loss: 0.78407204 acc: 0.68\n",
      "New set of weights found, iteration: 200 loss: 0.7797447 acc: 0.7466666666666667\n",
      "New set of weights found, iteration: 203 loss: 0.76333207 acc: 0.71\n",
      "New set of weights found, iteration: 209 loss: 0.7619582 acc: 0.71\n",
      "New set of weights found, iteration: 211 loss: 0.7528141 acc: 0.7066666666666667\n",
      "New set of weights found, iteration: 212 loss: 0.75043505 acc: 0.6766666666666666\n",
      "New set of weights found, iteration: 213 loss: 0.73741883 acc: 0.6633333333333333\n",
      "New set of weights found, iteration: 214 loss: 0.7355135 acc: 0.6666666666666666\n",
      "New set of weights found, iteration: 225 loss: 0.72935015 acc: 0.6666666666666666\n",
      "New set of weights found, iteration: 227 loss: 0.72792214 acc: 0.6666666666666666\n",
      "New set of weights found, iteration: 231 loss: 0.7229574 acc: 0.6666666666666666\n",
      "New set of weights found, iteration: 235 loss: 0.7216663 acc: 0.7233333333333334\n",
      "New set of weights found, iteration: 238 loss: 0.7164385 acc: 0.6666666666666666\n",
      "New set of weights found, iteration: 243 loss: 0.7153133 acc: 0.7233333333333334\n",
      "New set of weights found, iteration: 244 loss: 0.7123533 acc: 0.7433333333333333\n",
      "New set of weights found, iteration: 245 loss: 0.68871826 acc: 0.7433333333333333\n",
      "New set of weights found, iteration: 247 loss: 0.68171847 acc: 0.7266666666666667\n",
      "New set of weights found, iteration: 251 loss: 0.677854 acc: 0.8266666666666667\n",
      "New set of weights found, iteration: 255 loss: 0.67500955 acc: 0.8233333333333334\n",
      "New set of weights found, iteration: 257 loss: 0.66981363 acc: 0.8733333333333333\n",
      "New set of weights found, iteration: 259 loss: 0.6672051 acc: 0.9133333333333333\n",
      "New set of weights found, iteration: 260 loss: 0.66577953 acc: 0.8133333333333334\n",
      "New set of weights found, iteration: 262 loss: 0.6613058 acc: 0.8366666666666667\n",
      "New set of weights found, iteration: 268 loss: 0.6569685 acc: 0.8566666666666667\n",
      "New set of weights found, iteration: 275 loss: 0.6549336 acc: 0.8133333333333334\n",
      "New set of weights found, iteration: 284 loss: 0.6471904 acc: 0.89\n",
      "New set of weights found, iteration: 286 loss: 0.64336437 acc: 0.8533333333333334\n",
      "New set of weights found, iteration: 292 loss: 0.6414373 acc: 0.8466666666666667\n",
      "New set of weights found, iteration: 294 loss: 0.6394113 acc: 0.8433333333333334\n",
      "New set of weights found, iteration: 296 loss: 0.6360243 acc: 0.8766666666666667\n",
      "New set of weights found, iteration: 297 loss: 0.6226688 acc: 0.9033333333333333\n",
      "New set of weights found, iteration: 302 loss: 0.61835593 acc: 0.8966666666666666\n",
      "New set of weights found, iteration: 304 loss: 0.608657 acc: 0.9066666666666666\n",
      "New set of weights found, iteration: 305 loss: 0.60058594 acc: 0.91\n",
      "New set of weights found, iteration: 309 loss: 0.59646505 acc: 0.9\n",
      "New set of weights found, iteration: 312 loss: 0.5953192 acc: 0.9\n",
      "New set of weights found, iteration: 315 loss: 0.5935397 acc: 0.9\n",
      "New set of weights found, iteration: 318 loss: 0.590661 acc: 0.9133333333333333\n",
      "New set of weights found, iteration: 325 loss: 0.5871969 acc: 0.92\n",
      "New set of weights found, iteration: 330 loss: 0.580839 acc: 0.91\n",
      "New set of weights found, iteration: 333 loss: 0.5778589 acc: 0.8233333333333334\n",
      "New set of weights found, iteration: 336 loss: 0.5739349 acc: 0.8166666666666667\n",
      "New set of weights found, iteration: 337 loss: 0.5670872 acc: 0.8066666666666666\n",
      "New set of weights found, iteration: 338 loss: 0.5647585 acc: 0.8333333333333334\n",
      "New set of weights found, iteration: 340 loss: 0.55079764 acc: 0.8766666666666667\n",
      "New set of weights found, iteration: 342 loss: 0.55045116 acc: 0.8766666666666667\n",
      "New set of weights found, iteration: 345 loss: 0.54774237 acc: 0.8833333333333333\n",
      "New set of weights found, iteration: 349 loss: 0.54336905 acc: 0.9133333333333333\n",
      "New set of weights found, iteration: 350 loss: 0.5428674 acc: 0.93\n",
      "New set of weights found, iteration: 354 loss: 0.5405931 acc: 0.8466666666666667\n",
      "New set of weights found, iteration: 355 loss: 0.5390134 acc: 0.8566666666666667\n",
      "New set of weights found, iteration: 361 loss: 0.5345522 acc: 0.8666666666666667\n",
      "New set of weights found, iteration: 372 loss: 0.527884 acc: 0.9133333333333333\n",
      "New set of weights found, iteration: 373 loss: 0.5268715 acc: 0.9066666666666666\n",
      "New set of weights found, iteration: 374 loss: 0.5198482 acc: 0.9033333333333333\n",
      "New set of weights found, iteration: 378 loss: 0.5112126 acc: 0.87\n",
      "New set of weights found, iteration: 394 loss: 0.50628746 acc: 0.8633333333333333\n",
      "New set of weights found, iteration: 396 loss: 0.49912825 acc: 0.8633333333333333\n",
      "New set of weights found, iteration: 403 loss: 0.49555358 acc: 0.9133333333333333\n",
      "New set of weights found, iteration: 405 loss: 0.4940831 acc: 0.9\n",
      "New set of weights found, iteration: 406 loss: 0.49339703 acc: 0.8566666666666667\n",
      "New set of weights found, iteration: 408 loss: 0.49229786 acc: 0.86\n",
      "New set of weights found, iteration: 410 loss: 0.49087632 acc: 0.9033333333333333\n",
      "New set of weights found, iteration: 416 loss: 0.49077973 acc: 0.8466666666666667\n",
      "New set of weights found, iteration: 417 loss: 0.48905247 acc: 0.85\n",
      "New set of weights found, iteration: 418 loss: 0.4798692 acc: 0.85\n",
      "New set of weights found, iteration: 420 loss: 0.46702516 acc: 0.86\n",
      "New set of weights found, iteration: 421 loss: 0.46463472 acc: 0.8666666666666667\n",
      "New set of weights found, iteration: 424 loss: 0.46177673 acc: 0.8566666666666667\n",
      "New set of weights found, iteration: 428 loss: 0.45887685 acc: 0.8666666666666667\n",
      "New set of weights found, iteration: 429 loss: 0.45599625 acc: 0.88\n",
      "New set of weights found, iteration: 435 loss: 0.4516141 acc: 0.87\n",
      "New set of weights found, iteration: 445 loss: 0.4420222 acc: 0.8833333333333333\n",
      "New set of weights found, iteration: 449 loss: 0.43983033 acc: 0.9066666666666666\n",
      "New set of weights found, iteration: 451 loss: 0.43908504 acc: 0.9133333333333333\n",
      "New set of weights found, iteration: 453 loss: 0.43494323 acc: 0.9266666666666666\n",
      "New set of weights found, iteration: 459 loss: 0.4332192 acc: 0.92\n",
      "New set of weights found, iteration: 463 loss: 0.42311278 acc: 0.91\n",
      "New set of weights found, iteration: 477 loss: 0.4225294 acc: 0.9033333333333333\n"
     ]
    },
    {
     "name": "stdout",
     "output_type": "stream",
     "text": [
      "New set of weights found, iteration: 494 loss: 0.41889063 acc: 0.9033333333333333\n",
      "New set of weights found, iteration: 501 loss: 0.41820547 acc: 0.8966666666666666\n",
      "New set of weights found, iteration: 502 loss: 0.41725704 acc: 0.9033333333333333\n",
      "New set of weights found, iteration: 505 loss: 0.41672993 acc: 0.9066666666666666\n",
      "New set of weights found, iteration: 508 loss: 0.4140419 acc: 0.91\n",
      "New set of weights found, iteration: 512 loss: 0.41275844 acc: 0.9133333333333333\n",
      "New set of weights found, iteration: 513 loss: 0.4033932 acc: 0.9066666666666666\n",
      "New set of weights found, iteration: 519 loss: 0.40067017 acc: 0.8966666666666666\n",
      "New set of weights found, iteration: 521 loss: 0.39605948 acc: 0.9133333333333333\n",
      "New set of weights found, iteration: 524 loss: 0.39025992 acc: 0.9233333333333333\n",
      "New set of weights found, iteration: 531 loss: 0.384466 acc: 0.9233333333333333\n",
      "New set of weights found, iteration: 532 loss: 0.38349554 acc: 0.9166666666666666\n",
      "New set of weights found, iteration: 535 loss: 0.38023916 acc: 0.9233333333333333\n",
      "New set of weights found, iteration: 538 loss: 0.3703184 acc: 0.9266666666666666\n",
      "New set of weights found, iteration: 543 loss: 0.36344716 acc: 0.92\n",
      "New set of weights found, iteration: 558 loss: 0.36163324 acc: 0.9133333333333333\n",
      "New set of weights found, iteration: 560 loss: 0.35823104 acc: 0.9266666666666666\n",
      "New set of weights found, iteration: 579 loss: 0.35494953 acc: 0.92\n",
      "New set of weights found, iteration: 584 loss: 0.34897238 acc: 0.9233333333333333\n",
      "New set of weights found, iteration: 588 loss: 0.34331012 acc: 0.9133333333333333\n",
      "New set of weights found, iteration: 589 loss: 0.34308782 acc: 0.9166666666666666\n",
      "New set of weights found, iteration: 599 loss: 0.3392384 acc: 0.92\n",
      "New set of weights found, iteration: 600 loss: 0.33813778 acc: 0.93\n",
      "New set of weights found, iteration: 602 loss: 0.3284466 acc: 0.9166666666666666\n",
      "New set of weights found, iteration: 603 loss: 0.32677683 acc: 0.9266666666666666\n",
      "New set of weights found, iteration: 611 loss: 0.3262335 acc: 0.9233333333333333\n",
      "New set of weights found, iteration: 612 loss: 0.32551044 acc: 0.9233333333333333\n",
      "New set of weights found, iteration: 614 loss: 0.3183025 acc: 0.9233333333333333\n",
      "New set of weights found, iteration: 616 loss: 0.31747144 acc: 0.9066666666666666\n",
      "New set of weights found, iteration: 618 loss: 0.31482878 acc: 0.9\n",
      "New set of weights found, iteration: 621 loss: 0.31123674 acc: 0.9166666666666666\n",
      "New set of weights found, iteration: 623 loss: 0.30788657 acc: 0.9133333333333333\n",
      "New set of weights found, iteration: 628 loss: 0.30341426 acc: 0.9266666666666666\n",
      "New set of weights found, iteration: 629 loss: 0.30152714 acc: 0.9266666666666666\n",
      "New set of weights found, iteration: 633 loss: 0.2996185 acc: 0.9233333333333333\n",
      "New set of weights found, iteration: 647 loss: 0.29581666 acc: 0.9366666666666666\n",
      "New set of weights found, iteration: 649 loss: 0.29504254 acc: 0.91\n",
      "New set of weights found, iteration: 668 loss: 0.2916008 acc: 0.92\n",
      "New set of weights found, iteration: 669 loss: 0.28845972 acc: 0.9166666666666666\n",
      "New set of weights found, iteration: 672 loss: 0.28587514 acc: 0.9333333333333333\n",
      "New set of weights found, iteration: 675 loss: 0.28482115 acc: 0.9133333333333333\n",
      "New set of weights found, iteration: 684 loss: 0.28250408 acc: 0.93\n",
      "New set of weights found, iteration: 691 loss: 0.27977315 acc: 0.93\n",
      "New set of weights found, iteration: 693 loss: 0.27872875 acc: 0.9133333333333333\n",
      "New set of weights found, iteration: 694 loss: 0.2708154 acc: 0.9266666666666666\n",
      "New set of weights found, iteration: 699 loss: 0.27023676 acc: 0.9333333333333333\n",
      "New set of weights found, iteration: 700 loss: 0.26886272 acc: 0.9366666666666666\n",
      "New set of weights found, iteration: 702 loss: 0.2661562 acc: 0.9166666666666666\n",
      "New set of weights found, iteration: 708 loss: 0.26465186 acc: 0.9266666666666666\n",
      "New set of weights found, iteration: 709 loss: 0.26386175 acc: 0.92\n",
      "New set of weights found, iteration: 719 loss: 0.26312718 acc: 0.92\n",
      "New set of weights found, iteration: 723 loss: 0.26173913 acc: 0.93\n",
      "New set of weights found, iteration: 725 loss: 0.26125762 acc: 0.92\n",
      "New set of weights found, iteration: 739 loss: 0.2610038 acc: 0.92\n",
      "New set of weights found, iteration: 744 loss: 0.25802267 acc: 0.9233333333333333\n",
      "New set of weights found, iteration: 747 loss: 0.25512782 acc: 0.92\n",
      "New set of weights found, iteration: 750 loss: 0.25385624 acc: 0.9133333333333333\n",
      "New set of weights found, iteration: 751 loss: 0.25299963 acc: 0.92\n",
      "New set of weights found, iteration: 752 loss: 0.2502718 acc: 0.92\n",
      "New set of weights found, iteration: 757 loss: 0.24997646 acc: 0.93\n",
      "New set of weights found, iteration: 760 loss: 0.24500163 acc: 0.9333333333333333\n",
      "New set of weights found, iteration: 763 loss: 0.24186966 acc: 0.9166666666666666\n",
      "New set of weights found, iteration: 765 loss: 0.2407875 acc: 0.93\n",
      "New set of weights found, iteration: 773 loss: 0.23857696 acc: 0.9233333333333333\n",
      "New set of weights found, iteration: 774 loss: 0.23780985 acc: 0.9166666666666666\n",
      "New set of weights found, iteration: 792 loss: 0.23359112 acc: 0.9233333333333333\n",
      "New set of weights found, iteration: 794 loss: 0.23125227 acc: 0.9166666666666666\n",
      "New set of weights found, iteration: 801 loss: 0.2304186 acc: 0.9266666666666666\n",
      "New set of weights found, iteration: 802 loss: 0.22944796 acc: 0.9366666666666666\n",
      "New set of weights found, iteration: 804 loss: 0.22643565 acc: 0.92\n",
      "New set of weights found, iteration: 815 loss: 0.22641063 acc: 0.9066666666666666\n",
      "New set of weights found, iteration: 817 loss: 0.22611521 acc: 0.9166666666666666\n",
      "New set of weights found, iteration: 819 loss: 0.22545609 acc: 0.93\n",
      "New set of weights found, iteration: 820 loss: 0.22134075 acc: 0.92\n",
      "New set of weights found, iteration: 822 loss: 0.22101384 acc: 0.9166666666666666\n",
      "New set of weights found, iteration: 830 loss: 0.21800463 acc: 0.9266666666666666\n",
      "New set of weights found, iteration: 831 loss: 0.2162278 acc: 0.9366666666666666\n",
      "New set of weights found, iteration: 834 loss: 0.21543668 acc: 0.93\n",
      "New set of weights found, iteration: 837 loss: 0.21435939 acc: 0.9266666666666666\n",
      "New set of weights found, iteration: 839 loss: 0.21171542 acc: 0.93\n",
      "New set of weights found, iteration: 845 loss: 0.21121615 acc: 0.9233333333333333\n",
      "New set of weights found, iteration: 846 loss: 0.20916303 acc: 0.93\n",
      "New set of weights found, iteration: 850 loss: 0.20909792 acc: 0.93\n",
      "New set of weights found, iteration: 853 loss: 0.2085334 acc: 0.9233333333333333\n",
      "New set of weights found, iteration: 856 loss: 0.20841117 acc: 0.9233333333333333\n",
      "New set of weights found, iteration: 862 loss: 0.20699948 acc: 0.9333333333333333\n",
      "New set of weights found, iteration: 863 loss: 0.20601486 acc: 0.9266666666666666\n",
      "New set of weights found, iteration: 865 loss: 0.20552392 acc: 0.91\n",
      "New set of weights found, iteration: 871 loss: 0.2037015 acc: 0.9233333333333333\n",
      "New set of weights found, iteration: 873 loss: 0.20195554 acc: 0.9166666666666666\n",
      "New set of weights found, iteration: 880 loss: 0.19989084 acc: 0.9266666666666666\n",
      "New set of weights found, iteration: 884 loss: 0.1979085 acc: 0.91\n",
      "New set of weights found, iteration: 891 loss: 0.19760582 acc: 0.9133333333333333\n",
      "New set of weights found, iteration: 894 loss: 0.19597088 acc: 0.9266666666666666\n",
      "New set of weights found, iteration: 900 loss: 0.19528021 acc: 0.91\n",
      "New set of weights found, iteration: 914 loss: 0.19505835 acc: 0.91\n",
      "New set of weights found, iteration: 916 loss: 0.19427317 acc: 0.9133333333333333\n",
      "New set of weights found, iteration: 925 loss: 0.1935438 acc: 0.92\n",
      "New set of weights found, iteration: 935 loss: 0.19352119 acc: 0.9266666666666666\n",
      "New set of weights found, iteration: 964 loss: 0.1934045 acc: 0.9233333333333333\n",
      "New set of weights found, iteration: 988 loss: 0.19303839 acc: 0.9266666666666666\n",
      "New set of weights found, iteration: 1004 loss: 0.19277509 acc: 0.9266666666666666\n",
      "New set of weights found, iteration: 1007 loss: 0.19274342 acc: 0.9233333333333333\n",
      "New set of weights found, iteration: 1011 loss: 0.19122085 acc: 0.9266666666666666\n",
      "New set of weights found, iteration: 1018 loss: 0.19102782 acc: 0.9266666666666666\n",
      "New set of weights found, iteration: 1022 loss: 0.18964946 acc: 0.9266666666666666\n",
      "New set of weights found, iteration: 1023 loss: 0.18950203 acc: 0.9233333333333333\n",
      "New set of weights found, iteration: 1029 loss: 0.18866241 acc: 0.92\n",
      "New set of weights found, iteration: 1030 loss: 0.18721771 acc: 0.9166666666666666\n",
      "New set of weights found, iteration: 1046 loss: 0.18647324 acc: 0.9266666666666666\n",
      "New set of weights found, iteration: 1062 loss: 0.18613471 acc: 0.9166666666666666\n",
      "New set of weights found, iteration: 1085 loss: 0.18610968 acc: 0.9266666666666666\n",
      "New set of weights found, iteration: 1096 loss: 0.18509649 acc: 0.9266666666666666\n",
      "New set of weights found, iteration: 1100 loss: 0.18422864 acc: 0.9133333333333333\n",
      "New set of weights found, iteration: 1108 loss: 0.18340191 acc: 0.9133333333333333\n",
      "New set of weights found, iteration: 1119 loss: 0.18307266 acc: 0.92\n",
      "New set of weights found, iteration: 1133 loss: 0.18295006 acc: 0.92\n",
      "New set of weights found, iteration: 1142 loss: 0.1823502 acc: 0.92\n"
     ]
    },
    {
     "name": "stdout",
     "output_type": "stream",
     "text": [
      "New set of weights found, iteration: 1158 loss: 0.18148555 acc: 0.92\n",
      "New set of weights found, iteration: 1163 loss: 0.18132156 acc: 0.93\n",
      "New set of weights found, iteration: 1166 loss: 0.18021365 acc: 0.92\n",
      "New set of weights found, iteration: 1187 loss: 0.18014713 acc: 0.92\n",
      "New set of weights found, iteration: 1190 loss: 0.18001658 acc: 0.9166666666666666\n",
      "New set of weights found, iteration: 1194 loss: 0.17915201 acc: 0.92\n",
      "New set of weights found, iteration: 1203 loss: 0.17894568 acc: 0.91\n",
      "New set of weights found, iteration: 1205 loss: 0.17870161 acc: 0.9133333333333333\n",
      "New set of weights found, iteration: 1209 loss: 0.17831378 acc: 0.9166666666666666\n",
      "New set of weights found, iteration: 1213 loss: 0.17796837 acc: 0.9233333333333333\n",
      "New set of weights found, iteration: 1222 loss: 0.17772204 acc: 0.9233333333333333\n",
      "New set of weights found, iteration: 1242 loss: 0.17708845 acc: 0.92\n",
      "New set of weights found, iteration: 1243 loss: 0.17694613 acc: 0.92\n",
      "New set of weights found, iteration: 1255 loss: 0.17629926 acc: 0.92\n",
      "New set of weights found, iteration: 1257 loss: 0.17482038 acc: 0.9166666666666666\n",
      "New set of weights found, iteration: 1267 loss: 0.1742972 acc: 0.9233333333333333\n",
      "New set of weights found, iteration: 1300 loss: 0.17406105 acc: 0.9133333333333333\n",
      "New set of weights found, iteration: 1327 loss: 0.17355059 acc: 0.9133333333333333\n",
      "New set of weights found, iteration: 1336 loss: 0.17345034 acc: 0.92\n",
      "New set of weights found, iteration: 1340 loss: 0.17205928 acc: 0.9233333333333333\n",
      "New set of weights found, iteration: 1346 loss: 0.17132115 acc: 0.9266666666666666\n",
      "New set of weights found, iteration: 1347 loss: 0.17090607 acc: 0.9166666666666666\n",
      "New set of weights found, iteration: 1353 loss: 0.1706233 acc: 0.9233333333333333\n",
      "New set of weights found, iteration: 1358 loss: 0.16966625 acc: 0.9233333333333333\n",
      "New set of weights found, iteration: 1366 loss: 0.16963181 acc: 0.92\n",
      "New set of weights found, iteration: 1371 loss: 0.16958214 acc: 0.9166666666666666\n",
      "New set of weights found, iteration: 1379 loss: 0.16896151 acc: 0.92\n",
      "New set of weights found, iteration: 1382 loss: 0.16865964 acc: 0.9233333333333333\n",
      "New set of weights found, iteration: 1573 loss: 0.16842256 acc: 0.9233333333333333\n",
      "New set of weights found, iteration: 1577 loss: 0.16812515 acc: 0.9233333333333333\n",
      "New set of weights found, iteration: 1582 loss: 0.16806205 acc: 0.9233333333333333\n",
      "New set of weights found, iteration: 1595 loss: 0.16793963 acc: 0.9233333333333333\n",
      "New set of weights found, iteration: 1598 loss: 0.16773239 acc: 0.9233333333333333\n",
      "New set of weights found, iteration: 1647 loss: 0.16757767 acc: 0.9233333333333333\n",
      "New set of weights found, iteration: 1663 loss: 0.16736239 acc: 0.9266666666666666\n",
      "New set of weights found, iteration: 1668 loss: 0.16710004 acc: 0.9266666666666666\n",
      "New set of weights found, iteration: 1682 loss: 0.1670549 acc: 0.9266666666666666\n",
      "New set of weights found, iteration: 1770 loss: 0.16702525 acc: 0.9266666666666666\n",
      "New set of weights found, iteration: 2078 loss: 0.16696566 acc: 0.9233333333333333\n",
      "New set of weights found, iteration: 2091 loss: 0.16660619 acc: 0.9266666666666666\n",
      "New set of weights found, iteration: 2203 loss: 0.16649143 acc: 0.9266666666666666\n",
      "New set of weights found, iteration: 2508 loss: 0.16638528 acc: 0.9266666666666666\n",
      "New set of weights found, iteration: 2715 loss: 0.16637607 acc: 0.9266666666666666\n",
      "New set of weights found, iteration: 2849 loss: 0.16629189 acc: 0.9266666666666666\n",
      "New set of weights found, iteration: 3219 loss: 0.16627058 acc: 0.9233333333333333\n",
      "New set of weights found, iteration: 3297 loss: 0.16622256 acc: 0.9233333333333333\n",
      "New set of weights found, iteration: 4891 loss: 0.16622132 acc: 0.9266666666666666\n",
      "New set of weights found, iteration: 5521 loss: 0.16621125 acc: 0.9266666666666666\n",
      "New set of weights found, iteration: 7626 loss: 0.1662101 acc: 0.9266666666666666\n",
      "New set of weights found, iteration: 7799 loss: 0.16618848 acc: 0.9266666666666666\n",
      "New set of weights found, iteration: 8738 loss: 0.16618347 acc: 0.9266666666666666\n",
      "New set of weights found, iteration: 9971 loss: 0.16617595 acc: 0.9266666666666666\n",
      "New set of weights found, iteration: 12804 loss: 0.1661719 acc: 0.9266666666666666\n",
      "New set of weights found, iteration: 16936 loss: 0.16616558 acc: 0.9266666666666666\n",
      "New set of weights found, iteration: 17093 loss: 0.16614924 acc: 0.9266666666666666\n",
      "New set of weights found, iteration: 23147 loss: 0.16614276 acc: 0.9266666666666666\n",
      "New set of weights found, iteration: 29931 loss: 0.16614123 acc: 0.9266666666666666\n",
      "New set of weights found, iteration: 31505 loss: 0.16613957 acc: 0.9266666666666666\n",
      "New set of weights found, iteration: 50220 loss: 0.16613345 acc: 0.9266666666666666\n",
      "New set of weights found, iteration: 78446 loss: 0.16613303 acc: 0.9266666666666666\n",
      "New set of weights found, iteration: 80129 loss: 0.1661225 acc: 0.9266666666666666\n"
     ]
    }
   ],
   "source": [
    "X,y = vertical_data(samples = 100,classes = 3)\n",
    "\n",
    "dense1 = Layer_Dense(2,3)\n",
    "activation1 = ActivationReLU()\n",
    "dense2 = Layer_Dense(3,3)\n",
    "activation2 = ActivationSoftMax()\n",
    "\n",
    "loss_function = Loss_CategoricalCrossentropy()\n",
    "\n",
    "\n",
    "lowest_loss = 9999999 #take a larger loss to minimise \n",
    "best_dense1_weights = dense1.weights.copy()\n",
    "best_dense1_biases = dense1.biases.copy()\n",
    "best_dense2_weights = dense2.weights.copy()\n",
    "best_dense2_biases = dense2.biases.copy()\n",
    "\n",
    "for iteration in range(100000):\n",
    "    \n",
    "    dense1.weights += 0.05*np.random.randn(2,3)\n",
    "    dense1.biases += 0.05*np.random.randn(1,3)\n",
    "    dense2.weights += 0.05*np.random.randn(3,3)\n",
    "    dense2.biases += 0.05*np.random.randn(1,3)\n",
    "    \n",
    "    #perform forward pass through activaton function \n",
    "    dense1.forwardpass(X)\n",
    "    activation1.forward(dense1.output)\n",
    "    dense2.forwardpass(activation1.output)\n",
    "    activation2.forward(dense2.output)\n",
    "    \n",
    "    loss = loss_function.calculate(activation2.output,y)\n",
    "    \n",
    "    predictions = np.argmax(activation2.output,axis = 1)\n",
    "    accuracy = np.mean(predictions == y)\n",
    "    \n",
    "    if loss<lowest_loss:\n",
    "        print('New set of weights found, iteration:', iteration,'loss:', loss, 'acc:', accuracy)\n",
    "        best_dense1_weights = dense1.weights.copy()\n",
    "        best_dense1_biases = dense1.biases.copy()\n",
    "        best_dense2_weights = dense2.weights.copy()\n",
    "        best_dense2_biases = dense2.biases.copy()\n",
    "        lowest_loss = loss\n",
    "    else:\n",
    "        dense1.weights = best_dense1_weights.copy()\n",
    "        dense1.biases = best_dense1_biases.copy()\n",
    "        dense2.weights = best_dense2_weights.copy()\n",
    "        dense2.biases = best_dense2_biases.copy()"
   ]
  },
  {
   "cell_type": "code",
   "execution_count": 50,
   "id": "5c416992",
   "metadata": {},
   "outputs": [
    {
     "name": "stdout",
     "output_type": "stream",
     "text": [
      "New set of weights found, iteration: 0 loss: 1.099033 acc: 0.3333333333333333\n",
      "New set of weights found, iteration: 2 loss: 1.0986236 acc: 0.3333333333333333\n",
      "New set of weights found, iteration: 6 loss: 1.098027 acc: 0.3333333333333333\n",
      "New set of weights found, iteration: 11 loss: 1.0978425 acc: 0.3333333333333333\n",
      "New set of weights found, iteration: 12 loss: 1.0975889 acc: 0.33666666666666667\n",
      "New set of weights found, iteration: 13 loss: 1.0960252 acc: 0.38333333333333336\n",
      "New set of weights found, iteration: 15 loss: 1.0953746 acc: 0.38333333333333336\n",
      "New set of weights found, iteration: 23 loss: 1.0953611 acc: 0.37\n",
      "New set of weights found, iteration: 25 loss: 1.0950634 acc: 0.37\n",
      "New set of weights found, iteration: 26 loss: 1.0950321 acc: 0.32\n",
      "New set of weights found, iteration: 29 loss: 1.0950012 acc: 0.37333333333333335\n",
      "New set of weights found, iteration: 35 loss: 1.0946574 acc: 0.37666666666666665\n",
      "New set of weights found, iteration: 42 loss: 1.093805 acc: 0.3466666666666667\n",
      "New set of weights found, iteration: 55 loss: 1.0930774 acc: 0.39\n",
      "New set of weights found, iteration: 56 loss: 1.0929942 acc: 0.35333333333333333\n",
      "New set of weights found, iteration: 63 loss: 1.092389 acc: 0.36333333333333334\n",
      "New set of weights found, iteration: 71 loss: 1.0918188 acc: 0.37333333333333335\n",
      "New set of weights found, iteration: 74 loss: 1.0911031 acc: 0.41\n",
      "New set of weights found, iteration: 75 loss: 1.090884 acc: 0.3566666666666667\n",
      "New set of weights found, iteration: 81 loss: 1.0896305 acc: 0.35333333333333333\n",
      "New set of weights found, iteration: 87 loss: 1.0895089 acc: 0.4033333333333333\n",
      "New set of weights found, iteration: 89 loss: 1.0877072 acc: 0.4033333333333333\n",
      "New set of weights found, iteration: 94 loss: 1.0874288 acc: 0.4033333333333333\n",
      "New set of weights found, iteration: 109 loss: 1.086075 acc: 0.4033333333333333\n",
      "New set of weights found, iteration: 116 loss: 1.0851785 acc: 0.4166666666666667\n",
      "New set of weights found, iteration: 129 loss: 1.0850029 acc: 0.36666666666666664\n",
      "New set of weights found, iteration: 130 loss: 1.08412 acc: 0.42\n",
      "New set of weights found, iteration: 131 loss: 1.083998 acc: 0.4033333333333333\n",
      "New set of weights found, iteration: 138 loss: 1.0834281 acc: 0.4166666666666667\n",
      "New set of weights found, iteration: 147 loss: 1.0826937 acc: 0.44666666666666666\n",
      "New set of weights found, iteration: 149 loss: 1.0818634 acc: 0.3933333333333333\n",
      "New set of weights found, iteration: 155 loss: 1.0802788 acc: 0.47333333333333333\n",
      "New set of weights found, iteration: 160 loss: 1.0787138 acc: 0.45\n",
      "New set of weights found, iteration: 204 loss: 1.078587 acc: 0.4266666666666667\n",
      "New set of weights found, iteration: 226 loss: 1.0779006 acc: 0.42333333333333334\n",
      "New set of weights found, iteration: 253 loss: 1.0778996 acc: 0.4066666666666667\n",
      "New set of weights found, iteration: 273 loss: 1.0775704 acc: 0.41333333333333333\n",
      "New set of weights found, iteration: 281 loss: 1.0764909 acc: 0.41\n",
      "New set of weights found, iteration: 311 loss: 1.0763676 acc: 0.42333333333333334\n",
      "New set of weights found, iteration: 491 loss: 1.0761415 acc: 0.44333333333333336\n",
      "New set of weights found, iteration: 553 loss: 1.0760627 acc: 0.42\n",
      "New set of weights found, iteration: 573 loss: 1.0759726 acc: 0.44666666666666666\n",
      "New set of weights found, iteration: 603 loss: 1.0758853 acc: 0.43\n",
      "New set of weights found, iteration: 616 loss: 1.0758617 acc: 0.43333333333333335\n",
      "New set of weights found, iteration: 640 loss: 1.0755284 acc: 0.44333333333333336\n",
      "New set of weights found, iteration: 752 loss: 1.0751587 acc: 0.44\n",
      "New set of weights found, iteration: 901 loss: 1.0751445 acc: 0.43\n",
      "New set of weights found, iteration: 956 loss: 1.0746944 acc: 0.43666666666666665\n",
      "New set of weights found, iteration: 1251 loss: 1.0745679 acc: 0.43\n",
      "New set of weights found, iteration: 1294 loss: 1.0740002 acc: 0.42333333333333334\n",
      "New set of weights found, iteration: 1797 loss: 1.0739228 acc: 0.45666666666666667\n",
      "New set of weights found, iteration: 1842 loss: 1.0736723 acc: 0.43666666666666665\n",
      "New set of weights found, iteration: 1848 loss: 1.0735465 acc: 0.4166666666666667\n",
      "New set of weights found, iteration: 1946 loss: 1.0733838 acc: 0.42333333333333334\n",
      "New set of weights found, iteration: 2056 loss: 1.0733279 acc: 0.4033333333333333\n",
      "New set of weights found, iteration: 2064 loss: 1.0726523 acc: 0.44333333333333336\n",
      "New set of weights found, iteration: 2178 loss: 1.0726098 acc: 0.44666666666666666\n",
      "New set of weights found, iteration: 2534 loss: 1.0725914 acc: 0.45\n",
      "New set of weights found, iteration: 2565 loss: 1.072447 acc: 0.43666666666666665\n",
      "New set of weights found, iteration: 4506 loss: 1.0724024 acc: 0.43333333333333335\n",
      "New set of weights found, iteration: 5935 loss: 1.072317 acc: 0.44666666666666666\n",
      "New set of weights found, iteration: 6213 loss: 1.0721061 acc: 0.44\n",
      "New set of weights found, iteration: 6738 loss: 1.0720372 acc: 0.44333333333333336\n",
      "New set of weights found, iteration: 7918 loss: 1.0718994 acc: 0.43666666666666665\n",
      "New set of weights found, iteration: 8330 loss: 1.0718672 acc: 0.43\n",
      "New set of weights found, iteration: 8410 loss: 1.0717293 acc: 0.44666666666666666\n",
      "New set of weights found, iteration: 8460 loss: 1.071702 acc: 0.43\n",
      "New set of weights found, iteration: 8581 loss: 1.0714573 acc: 0.45666666666666667\n",
      "New set of weights found, iteration: 8684 loss: 1.0713445 acc: 0.4533333333333333\n",
      "New set of weights found, iteration: 8873 loss: 1.0709072 acc: 0.43666666666666665\n",
      "New set of weights found, iteration: 9128 loss: 1.0707912 acc: 0.44333333333333336\n",
      "New set of weights found, iteration: 9201 loss: 1.0704577 acc: 0.44\n",
      "New set of weights found, iteration: 9330 loss: 1.0701864 acc: 0.45666666666666667\n",
      "New set of weights found, iteration: 10032 loss: 1.0700802 acc: 0.44666666666666666\n",
      "New set of weights found, iteration: 10197 loss: 1.0699419 acc: 0.44666666666666666\n",
      "New set of weights found, iteration: 14225 loss: 1.069832 acc: 0.45\n",
      "New set of weights found, iteration: 14528 loss: 1.0698057 acc: 0.45\n",
      "New set of weights found, iteration: 15116 loss: 1.0696516 acc: 0.44\n",
      "New set of weights found, iteration: 15166 loss: 1.0693777 acc: 0.43333333333333335\n",
      "New set of weights found, iteration: 16153 loss: 1.0692939 acc: 0.46\n",
      "New set of weights found, iteration: 16597 loss: 1.0691549 acc: 0.45\n",
      "New set of weights found, iteration: 16921 loss: 1.069027 acc: 0.44\n",
      "New set of weights found, iteration: 17127 loss: 1.0685601 acc: 0.44333333333333336\n",
      "New set of weights found, iteration: 18401 loss: 1.0682896 acc: 0.4533333333333333\n",
      "New set of weights found, iteration: 20995 loss: 1.0682539 acc: 0.45\n",
      "New set of weights found, iteration: 23741 loss: 1.068208 acc: 0.43333333333333335\n",
      "New set of weights found, iteration: 27575 loss: 1.0680829 acc: 0.44333333333333336\n",
      "New set of weights found, iteration: 28200 loss: 1.0680554 acc: 0.44333333333333336\n",
      "New set of weights found, iteration: 29782 loss: 1.0679591 acc: 0.45\n",
      "New set of weights found, iteration: 29937 loss: 1.0678498 acc: 0.44666666666666666\n",
      "New set of weights found, iteration: 30320 loss: 1.0676739 acc: 0.44666666666666666\n",
      "New set of weights found, iteration: 30354 loss: 1.0672873 acc: 0.45\n",
      "New set of weights found, iteration: 32755 loss: 1.067217 acc: 0.44666666666666666\n",
      "New set of weights found, iteration: 33261 loss: 1.0669887 acc: 0.4533333333333333\n",
      "New set of weights found, iteration: 33276 loss: 1.066983 acc: 0.44333333333333336\n",
      "New set of weights found, iteration: 33506 loss: 1.0669663 acc: 0.44333333333333336\n",
      "New set of weights found, iteration: 34211 loss: 1.0668496 acc: 0.44\n",
      "New set of weights found, iteration: 34472 loss: 1.0664676 acc: 0.44\n",
      "New set of weights found, iteration: 35337 loss: 1.066463 acc: 0.45\n",
      "New set of weights found, iteration: 35820 loss: 1.0664319 acc: 0.44333333333333336\n",
      "New set of weights found, iteration: 42841 loss: 1.0663742 acc: 0.44666666666666666\n",
      "New set of weights found, iteration: 44657 loss: 1.0662873 acc: 0.46\n",
      "New set of weights found, iteration: 44760 loss: 1.0662456 acc: 0.46\n",
      "New set of weights found, iteration: 56995 loss: 1.0662146 acc: 0.45\n",
      "New set of weights found, iteration: 57474 loss: 1.066084 acc: 0.4533333333333333\n",
      "New set of weights found, iteration: 88730 loss: 1.0658585 acc: 0.44666666666666666\n"
     ]
    },
    {
     "name": "stdout",
     "output_type": "stream",
     "text": [
      "New set of weights found, iteration: 95171 loss: 1.0658326 acc: 0.44\n"
     ]
    }
   ],
   "source": [
    "X,y = spiral_data(samples = 100,classes = 3)\n",
    "\n",
    "dense1 = Layer_Dense(2,3)\n",
    "activation1 = ActivationReLU()\n",
    "dense2 = Layer_Dense(3,3)\n",
    "activation2 = ActivationSoftMax()\n",
    "\n",
    "loss_function = Loss_CategoricalCrossentropy()\n",
    "\n",
    "\n",
    "lowest_loss = 9999999 #take a larger loss to minimise \n",
    "best_dense1_weights = dense1.weights.copy()\n",
    "best_dense1_biases = dense1.biases.copy()\n",
    "best_dense2_weights = dense2.weights.copy()\n",
    "best_dense2_biases = dense2.biases.copy()\n",
    "\n",
    "for iteration in range(100000):\n",
    "    \n",
    "    dense1.weights += 0.05*np.random.randn(2,3)\n",
    "    dense1.biases += 0.05*np.random.randn(1,3)\n",
    "    dense2.weights += 0.05*np.random.randn(3,3)\n",
    "    dense2.biases += 0.05*np.random.randn(1,3)\n",
    "    \n",
    "    #perform forward pass through activaton function \n",
    "    dense1.forwardpass(X)\n",
    "    activation1.forward(dense1.output)\n",
    "    dense2.forwardpass(activation1.output)\n",
    "    activation2.forward(dense2.output)\n",
    "    \n",
    "    loss = loss_function.calculate(activation2.output,y)\n",
    "    \n",
    "    predictions = np.argmax(activation2.output,axis = 1)\n",
    "    accuracy = np.mean(predictions == y)\n",
    "    \n",
    "    if loss<lowest_loss:\n",
    "        print('New set of weights found, iteration:', iteration,'loss:', loss, 'acc:', accuracy)\n",
    "        best_dense1_weights = dense1.weights.copy()\n",
    "        best_dense1_biases = dense1.biases.copy()\n",
    "        best_dense2_weights = dense2.weights.copy()\n",
    "        best_dense2_biases = dense2.biases.copy()\n",
    "        lowest_loss = loss\n",
    "    else:\n",
    "        dense1.weights = best_dense1_weights.copy()\n",
    "        dense1.biases = best_dense1_biases.copy()\n",
    "        dense2.weights = best_dense2_weights.copy()\n",
    "        dense2.biases = best_dense2_biases.copy()"
   ]
  },
  {
   "cell_type": "code",
   "execution_count": null,
   "id": "47498be8",
   "metadata": {},
   "outputs": [],
   "source": []
  }
 ],
 "metadata": {
  "kernelspec": {
   "display_name": "Python 3 (ipykernel)",
   "language": "python",
   "name": "python3"
  },
  "language_info": {
   "codemirror_mode": {
    "name": "ipython",
    "version": 3
   },
   "file_extension": ".py",
   "mimetype": "text/x-python",
   "name": "python",
   "nbconvert_exporter": "python",
   "pygments_lexer": "ipython3",
   "version": "3.10.9"
  }
 },
 "nbformat": 4,
 "nbformat_minor": 5
}
